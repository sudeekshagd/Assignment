{
 "cells": [
  {
   "cell_type": "code",
   "execution_count": 1,
   "id": "26d6103e",
   "metadata": {},
   "outputs": [],
   "source": [
    "#import required libraries\n",
    "import pandas as pd\n",
    "import numpy as np\n",
    "import re"
   ]
  },
  {
   "cell_type": "code",
   "execution_count": 2,
   "id": "7a7c6bd9",
   "metadata": {},
   "outputs": [
    {
     "name": "stderr",
     "output_type": "stream",
     "text": [
      "C:\\Users\\Sudeeksha\\anaconda3\\lib\\site-packages\\IPython\\core\\interactiveshell.py:3444: DtypeWarning: Columns (24) have mixed types.Specify dtype option on import or set low_memory=False.\n",
      "  exec(code_obj, self.user_global_ns, self.user_ns)\n"
     ]
    }
   ],
   "source": [
    "df = pd.read_csv(\"C:/Users/Sudeeksha/Desktop/premises-list-as-at-8-february-2021.csv\",encoding ='ISO-8859-1')"
   ]
  },
  {
   "cell_type": "code",
   "execution_count": 3,
   "id": "9ee9f0ce",
   "metadata": {},
   "outputs": [
    {
     "data": {
      "text/plain": [
       "(18747, 32)"
      ]
     },
     "execution_count": 3,
     "metadata": {},
     "output_type": "execute_result"
    }
   ],
   "source": [
    "#to check the number of rows and columns\n",
    "df.shape"
   ]
  },
  {
   "cell_type": "code",
   "execution_count": 4,
   "id": "7148fb0a",
   "metadata": {},
   "outputs": [
    {
     "data": {
      "text/html": [
       "<div>\n",
       "<style scoped>\n",
       "    .dataframe tbody tr th:only-of-type {\n",
       "        vertical-align: middle;\n",
       "    }\n",
       "\n",
       "    .dataframe tbody tr th {\n",
       "        vertical-align: top;\n",
       "    }\n",
       "\n",
       "    .dataframe thead th {\n",
       "        text-align: right;\n",
       "    }\n",
       "</style>\n",
       "<table border=\"1\" class=\"dataframe\">\n",
       "  <thead>\n",
       "    <tr style=\"text-align: right;\">\n",
       "      <th></th>\n",
       "      <th>Licence number</th>\n",
       "      <th>Licence type</th>\n",
       "      <th>Status</th>\n",
       "      <th>Start date</th>\n",
       "      <th>Trading Status</th>\n",
       "      <th>Licence name</th>\n",
       "      <th>Address</th>\n",
       "      <th>Suburb</th>\n",
       "      <th>Postcode</th>\n",
       "      <th>Latitude</th>\n",
       "      <th>...</th>\n",
       "      <th>After3am</th>\n",
       "      <th>After5am</th>\n",
       "      <th>SA2</th>\n",
       "      <th>Band</th>\n",
       "      <th>GMEs</th>\n",
       "      <th>PMPs</th>\n",
       "      <th>Auth limit</th>\n",
       "      <th>Unfulfilled Quota</th>\n",
       "      <th>GMT</th>\n",
       "      <th>EGMs</th>\n",
       "    </tr>\n",
       "  </thead>\n",
       "  <tbody>\n",
       "    <tr>\n",
       "      <th>0</th>\n",
       "      <td>LIQC300200019</td>\n",
       "      <td>Liquor - club licence</td>\n",
       "      <td>Current</td>\n",
       "      <td>29-05-1981</td>\n",
       "      <td>Trading</td>\n",
       "      <td>Charlestown Golf Club Ltd</td>\n",
       "      <td>1A Barker Ave</td>\n",
       "      <td>HILLSBOROUGH</td>\n",
       "      <td>2290.0</td>\n",
       "      <td>-32.963633</td>\n",
       "      <td>...</td>\n",
       "      <td>Yes</td>\n",
       "      <td>Yes</td>\n",
       "      <td>Glendale - Cardiff - Hillsborough</td>\n",
       "      <td>2</td>\n",
       "      <td>11</td>\n",
       "      <td>0</td>\n",
       "      <td>11</td>\n",
       "      <td>0</td>\n",
       "      <td>11</td>\n",
       "      <td>11</td>\n",
       "    </tr>\n",
       "    <tr>\n",
       "      <th>1</th>\n",
       "      <td>LIQC300200035</td>\n",
       "      <td>Liquor - club licence</td>\n",
       "      <td>Current</td>\n",
       "      <td>21-08-1981</td>\n",
       "      <td>Trading</td>\n",
       "      <td>Barooga Sports Club Ltd</td>\n",
       "      <td>12 Burkinshaw St</td>\n",
       "      <td>BAROOGA</td>\n",
       "      <td>3644.0</td>\n",
       "      <td>-35.906450</td>\n",
       "      <td>...</td>\n",
       "      <td>Yes</td>\n",
       "      <td>Yes</td>\n",
       "      <td>Tocumwal - Finley - Jerilderie</td>\n",
       "      <td>3</td>\n",
       "      <td>174</td>\n",
       "      <td>0</td>\n",
       "      <td>174</td>\n",
       "      <td>0</td>\n",
       "      <td>174</td>\n",
       "      <td>174</td>\n",
       "    </tr>\n",
       "    <tr>\n",
       "      <th>2</th>\n",
       "      <td>LIQC300200078</td>\n",
       "      <td>Liquor - club licence</td>\n",
       "      <td>Current</td>\n",
       "      <td>03-12-1981</td>\n",
       "      <td>Trading</td>\n",
       "      <td>Maclean-Lower Clarence Services Club Ltd</td>\n",
       "      <td>36-38 River St</td>\n",
       "      <td>MACLEAN</td>\n",
       "      <td>2463.0</td>\n",
       "      <td>-29.457323</td>\n",
       "      <td>...</td>\n",
       "      <td>Yes</td>\n",
       "      <td>Yes</td>\n",
       "      <td>Maclean - Yamba - Iluka</td>\n",
       "      <td>3</td>\n",
       "      <td>34</td>\n",
       "      <td>0</td>\n",
       "      <td>34</td>\n",
       "      <td>0</td>\n",
       "      <td>34</td>\n",
       "      <td>0</td>\n",
       "    </tr>\n",
       "    <tr>\n",
       "      <th>3</th>\n",
       "      <td>LIQC300200086</td>\n",
       "      <td>Liquor - club licence</td>\n",
       "      <td>Current</td>\n",
       "      <td>23-12-1981</td>\n",
       "      <td>Trading</td>\n",
       "      <td>Sporties Tuncurry</td>\n",
       "      <td>Beach St</td>\n",
       "      <td>TUNCURRY</td>\n",
       "      <td>2428.0</td>\n",
       "      <td>-32.166317</td>\n",
       "      <td>...</td>\n",
       "      <td>Yes</td>\n",
       "      <td>Yes</td>\n",
       "      <td>Tuncurry</td>\n",
       "      <td>3</td>\n",
       "      <td>46</td>\n",
       "      <td>0</td>\n",
       "      <td>46</td>\n",
       "      <td>0</td>\n",
       "      <td>46</td>\n",
       "      <td>46</td>\n",
       "    </tr>\n",
       "    <tr>\n",
       "      <th>4</th>\n",
       "      <td>LIQC300200094</td>\n",
       "      <td>Liquor - club licence</td>\n",
       "      <td>Current</td>\n",
       "      <td>15-03-1982</td>\n",
       "      <td>Trading</td>\n",
       "      <td>Canley Heights R S L &amp; Sporting Club Ltd</td>\n",
       "      <td>26 Humphries Rd</td>\n",
       "      <td>WAKELEY</td>\n",
       "      <td>2176.0</td>\n",
       "      <td>-33.878875</td>\n",
       "      <td>...</td>\n",
       "      <td>Yes</td>\n",
       "      <td>Yes</td>\n",
       "      <td>St Johns Park - Wakeley</td>\n",
       "      <td>3</td>\n",
       "      <td>150</td>\n",
       "      <td>0</td>\n",
       "      <td>150</td>\n",
       "      <td>0</td>\n",
       "      <td>150</td>\n",
       "      <td>150</td>\n",
       "    </tr>\n",
       "  </tbody>\n",
       "</table>\n",
       "<p>5 rows × 32 columns</p>\n",
       "</div>"
      ],
      "text/plain": [
       "  Licence number           Licence type   Status  Start date Trading Status  \\\n",
       "0  LIQC300200019  Liquor - club licence  Current  29-05-1981        Trading   \n",
       "1  LIQC300200035  Liquor - club licence  Current  21-08-1981        Trading   \n",
       "2  LIQC300200078  Liquor - club licence  Current  03-12-1981        Trading   \n",
       "3  LIQC300200086  Liquor - club licence  Current  23-12-1981        Trading   \n",
       "4  LIQC300200094  Liquor - club licence  Current  15-03-1982        Trading   \n",
       "\n",
       "                               Licence name           Address        Suburb  \\\n",
       "0                 Charlestown Golf Club Ltd     1A Barker Ave  HILLSBOROUGH   \n",
       "1                   Barooga Sports Club Ltd  12 Burkinshaw St       BAROOGA   \n",
       "2  Maclean-Lower Clarence Services Club Ltd    36-38 River St       MACLEAN   \n",
       "3                         Sporties Tuncurry          Beach St      TUNCURRY   \n",
       "4  Canley Heights R S L & Sporting Club Ltd   26 Humphries Rd       WAKELEY   \n",
       "\n",
       "   Postcode   Latitude  ... After3am After5am  \\\n",
       "0    2290.0 -32.963633  ...      Yes      Yes   \n",
       "1    3644.0 -35.906450  ...      Yes      Yes   \n",
       "2    2463.0 -29.457323  ...      Yes      Yes   \n",
       "3    2428.0 -32.166317  ...      Yes      Yes   \n",
       "4    2176.0 -33.878875  ...      Yes      Yes   \n",
       "\n",
       "                                 SA2 Band GMEs PMPs Auth limit  \\\n",
       "0  Glendale - Cardiff - Hillsborough    2   11    0         11   \n",
       "1     Tocumwal - Finley - Jerilderie    3  174    0        174   \n",
       "2            Maclean - Yamba - Iluka    3   34    0         34   \n",
       "3                           Tuncurry    3   46    0         46   \n",
       "4            St Johns Park - Wakeley    3  150    0        150   \n",
       "\n",
       "  Unfulfilled Quota  GMT EGMs  \n",
       "0                 0   11   11  \n",
       "1                 0  174  174  \n",
       "2                 0   34    0  \n",
       "3                 0   46   46  \n",
       "4                 0  150  150  \n",
       "\n",
       "[5 rows x 32 columns]"
      ]
     },
     "execution_count": 4,
     "metadata": {},
     "output_type": "execute_result"
    }
   ],
   "source": [
    "#display first 5 observation\n",
    "df.head()"
   ]
  },
  {
   "cell_type": "code",
   "execution_count": 5,
   "id": "a76c2f1f",
   "metadata": {},
   "outputs": [
    {
     "data": {
      "text/html": [
       "<div>\n",
       "<style scoped>\n",
       "    .dataframe tbody tr th:only-of-type {\n",
       "        vertical-align: middle;\n",
       "    }\n",
       "\n",
       "    .dataframe tbody tr th {\n",
       "        vertical-align: top;\n",
       "    }\n",
       "\n",
       "    .dataframe thead th {\n",
       "        text-align: right;\n",
       "    }\n",
       "</style>\n",
       "<table border=\"1\" class=\"dataframe\">\n",
       "  <thead>\n",
       "    <tr style=\"text-align: right;\">\n",
       "      <th></th>\n",
       "      <th>Licence number</th>\n",
       "      <th>Licence type</th>\n",
       "      <th>Status</th>\n",
       "      <th>Start date</th>\n",
       "      <th>Trading Status</th>\n",
       "      <th>Licence name</th>\n",
       "      <th>Address</th>\n",
       "      <th>Suburb</th>\n",
       "      <th>Postcode</th>\n",
       "      <th>Latitude</th>\n",
       "      <th>...</th>\n",
       "      <th>After3am</th>\n",
       "      <th>After5am</th>\n",
       "      <th>SA2</th>\n",
       "      <th>Band</th>\n",
       "      <th>GMEs</th>\n",
       "      <th>PMPs</th>\n",
       "      <th>Auth limit</th>\n",
       "      <th>Unfulfilled Quota</th>\n",
       "      <th>GMT</th>\n",
       "      <th>EGMs</th>\n",
       "    </tr>\n",
       "  </thead>\n",
       "  <tbody>\n",
       "    <tr>\n",
       "      <th>18742</th>\n",
       "      <td>LIQW880015366</td>\n",
       "      <td>Liquor - producer wholesaler licence</td>\n",
       "      <td>Current</td>\n",
       "      <td>29-01-2021</td>\n",
       "      <td>Trading</td>\n",
       "      <td>Bay Botanica</td>\n",
       "      <td>UNIT 4 6 LEIGHTON PL</td>\n",
       "      <td>HORNSBY</td>\n",
       "      <td>2077.0</td>\n",
       "      <td>-33.697604</td>\n",
       "      <td>...</td>\n",
       "      <td>No</td>\n",
       "      <td>No</td>\n",
       "      <td>NaN</td>\n",
       "      <td>0</td>\n",
       "      <td>0</td>\n",
       "      <td>0</td>\n",
       "      <td>0</td>\n",
       "      <td>0</td>\n",
       "      <td>0</td>\n",
       "      <td>0</td>\n",
       "    </tr>\n",
       "    <tr>\n",
       "      <th>18743</th>\n",
       "      <td>LIQW880015367</td>\n",
       "      <td>Liquor - producer wholesaler licence</td>\n",
       "      <td>Current</td>\n",
       "      <td>29-01-2021</td>\n",
       "      <td>Trading</td>\n",
       "      <td>Three Tails</td>\n",
       "      <td>13A LEWIS ST</td>\n",
       "      <td>MUDGEE</td>\n",
       "      <td>2850.0</td>\n",
       "      <td>-32.592727</td>\n",
       "      <td>...</td>\n",
       "      <td>No</td>\n",
       "      <td>No</td>\n",
       "      <td>NaN</td>\n",
       "      <td>0</td>\n",
       "      <td>0</td>\n",
       "      <td>0</td>\n",
       "      <td>0</td>\n",
       "      <td>0</td>\n",
       "      <td>0</td>\n",
       "      <td>0</td>\n",
       "    </tr>\n",
       "    <tr>\n",
       "      <th>18744</th>\n",
       "      <td>LIQW880015368</td>\n",
       "      <td>Liquor - producer wholesaler licence</td>\n",
       "      <td>Current</td>\n",
       "      <td>01-02-2021</td>\n",
       "      <td>Trading</td>\n",
       "      <td>Noble Craft Distillery</td>\n",
       "      <td>271 Powder Works Road</td>\n",
       "      <td>INGLESIDE</td>\n",
       "      <td>2101.0</td>\n",
       "      <td>-33.687927</td>\n",
       "      <td>...</td>\n",
       "      <td>No</td>\n",
       "      <td>No</td>\n",
       "      <td>NaN</td>\n",
       "      <td>0</td>\n",
       "      <td>0</td>\n",
       "      <td>0</td>\n",
       "      <td>0</td>\n",
       "      <td>0</td>\n",
       "      <td>0</td>\n",
       "      <td>0</td>\n",
       "    </tr>\n",
       "    <tr>\n",
       "      <th>18745</th>\n",
       "      <td>LIQW880015369</td>\n",
       "      <td>Liquor - producer wholesaler licence</td>\n",
       "      <td>Current</td>\n",
       "      <td>04-02-2021</td>\n",
       "      <td>Trading</td>\n",
       "      <td>Malt Man Brewing Pty Ltd</td>\n",
       "      <td>160 PRINCES HWY</td>\n",
       "      <td>BODALLA</td>\n",
       "      <td>2545.0</td>\n",
       "      <td>-36.097058</td>\n",
       "      <td>...</td>\n",
       "      <td>No</td>\n",
       "      <td>No</td>\n",
       "      <td>NaN</td>\n",
       "      <td>0</td>\n",
       "      <td>0</td>\n",
       "      <td>0</td>\n",
       "      <td>0</td>\n",
       "      <td>0</td>\n",
       "      <td>0</td>\n",
       "      <td>0</td>\n",
       "    </tr>\n",
       "    <tr>\n",
       "      <th>18746</th>\n",
       "      <td>LIQW880015370</td>\n",
       "      <td>Liquor - producer wholesaler licence</td>\n",
       "      <td>Current</td>\n",
       "      <td>04-02-2021</td>\n",
       "      <td>Trading</td>\n",
       "      <td>Gooroo Brewing</td>\n",
       "      <td>68 old gosford rd</td>\n",
       "      <td>WAMBERAL</td>\n",
       "      <td>2260.0</td>\n",
       "      <td>-33.425687</td>\n",
       "      <td>...</td>\n",
       "      <td>No</td>\n",
       "      <td>No</td>\n",
       "      <td>NaN</td>\n",
       "      <td>0</td>\n",
       "      <td>0</td>\n",
       "      <td>0</td>\n",
       "      <td>0</td>\n",
       "      <td>0</td>\n",
       "      <td>0</td>\n",
       "      <td>0</td>\n",
       "    </tr>\n",
       "  </tbody>\n",
       "</table>\n",
       "<p>5 rows × 32 columns</p>\n",
       "</div>"
      ],
      "text/plain": [
       "      Licence number                          Licence type   Status  \\\n",
       "18742  LIQW880015366  Liquor - producer wholesaler licence  Current   \n",
       "18743  LIQW880015367  Liquor - producer wholesaler licence  Current   \n",
       "18744  LIQW880015368  Liquor - producer wholesaler licence  Current   \n",
       "18745  LIQW880015369  Liquor - producer wholesaler licence  Current   \n",
       "18746  LIQW880015370  Liquor - producer wholesaler licence  Current   \n",
       "\n",
       "       Start date Trading Status              Licence name  \\\n",
       "18742  29-01-2021        Trading              Bay Botanica   \n",
       "18743  29-01-2021        Trading               Three Tails   \n",
       "18744  01-02-2021        Trading    Noble Craft Distillery   \n",
       "18745  04-02-2021        Trading  Malt Man Brewing Pty Ltd   \n",
       "18746  04-02-2021        Trading            Gooroo Brewing   \n",
       "\n",
       "                     Address     Suburb  Postcode   Latitude  ... After3am  \\\n",
       "18742   UNIT 4 6 LEIGHTON PL    HORNSBY    2077.0 -33.697604  ...       No   \n",
       "18743           13A LEWIS ST     MUDGEE    2850.0 -32.592727  ...       No   \n",
       "18744  271 Powder Works Road  INGLESIDE    2101.0 -33.687927  ...       No   \n",
       "18745        160 PRINCES HWY    BODALLA    2545.0 -36.097058  ...       No   \n",
       "18746      68 old gosford rd   WAMBERAL    2260.0 -33.425687  ...       No   \n",
       "\n",
       "      After5am  SA2 Band GMEs PMPs Auth limit Unfulfilled Quota GMT EGMs  \n",
       "18742       No  NaN    0    0    0          0                 0   0    0  \n",
       "18743       No  NaN    0    0    0          0                 0   0    0  \n",
       "18744       No  NaN    0    0    0          0                 0   0    0  \n",
       "18745       No  NaN    0    0    0          0                 0   0    0  \n",
       "18746       No  NaN    0    0    0          0                 0   0    0  \n",
       "\n",
       "[5 rows x 32 columns]"
      ]
     },
     "execution_count": 5,
     "metadata": {},
     "output_type": "execute_result"
    }
   ],
   "source": [
    "# display last 5 observation\n",
    "df.tail()"
   ]
  },
  {
   "cell_type": "code",
   "execution_count": 6,
   "id": "4ab2a0b5",
   "metadata": {},
   "outputs": [],
   "source": [
    "#remove the rows with na for all columns\n",
    "df=df.dropna(how='all')"
   ]
  },
  {
   "cell_type": "code",
   "execution_count": 7,
   "id": "d1a4e59d",
   "metadata": {},
   "outputs": [
    {
     "data": {
      "text/plain": [
       "(18747, 32)"
      ]
     },
     "execution_count": 7,
     "metadata": {},
     "output_type": "execute_result"
    }
   ],
   "source": [
    "#check the no of rows again\n",
    "df.shape"
   ]
  },
  {
   "cell_type": "code",
   "execution_count": 8,
   "id": "26c9af52",
   "metadata": {},
   "outputs": [
    {
     "name": "stdout",
     "output_type": "stream",
     "text": [
      "Empty DataFrame\n",
      "Columns: [Licence number, Licence type, Status, Start date, Trading Status, Licence name, Address, Suburb, Postcode, Latitude, Longitude, LGA, Precinct, Licensee, Business type, Authorisation restriction name, Extended trading, Reduced trading, Primary service, Right to keep gaming, Unrestricted, After12am, After3am, After5am, SA2, Band, GMEs, PMPs, Auth limit, Unfulfilled Quota, GMT, EGMs]\n",
      "Index: []\n",
      "\n",
      "[0 rows x 32 columns]\n"
     ]
    }
   ],
   "source": [
    "#check for duplicate rows\n",
    "duplicate =df[df.duplicated()]\n",
    "print(duplicate)"
   ]
  },
  {
   "cell_type": "code",
   "execution_count": 9,
   "id": "0dfbab46",
   "metadata": {},
   "outputs": [
    {
     "name": "stdout",
     "output_type": "stream",
     "text": [
      "<class 'pandas.core.frame.DataFrame'>\n",
      "Int64Index: 18747 entries, 0 to 18746\n",
      "Data columns (total 32 columns):\n",
      " #   Column                          Non-Null Count  Dtype  \n",
      "---  ------                          --------------  -----  \n",
      " 0   Licence number                  18747 non-null  object \n",
      " 1   Licence type                    18747 non-null  object \n",
      " 2   Status                          18747 non-null  object \n",
      " 3   Start date                      18747 non-null  object \n",
      " 4   Trading Status                  18747 non-null  object \n",
      " 5   Licence name                    18747 non-null  object \n",
      " 6   Address                         18595 non-null  object \n",
      " 7   Suburb                          18595 non-null  object \n",
      " 8   Postcode                        18594 non-null  float64\n",
      " 9   Latitude                        18458 non-null  float64\n",
      " 10  Longitude                       18456 non-null  object \n",
      " 11  LGA                             18595 non-null  object \n",
      " 12  Precinct                        1253 non-null   object \n",
      " 13  Licensee                        18745 non-null  object \n",
      " 14  Business type                   15521 non-null  object \n",
      " 15  Authorisation restriction name  12635 non-null  object \n",
      " 16  Extended trading                18747 non-null  object \n",
      " 17  Reduced trading                 18747 non-null  object \n",
      " 18  Primary service                 18747 non-null  object \n",
      " 19  Right to keep gaming            18747 non-null  object \n",
      " 20  Unrestricted                    18747 non-null  object \n",
      " 21  After12am                       18747 non-null  object \n",
      " 22  After3am                        18747 non-null  object \n",
      " 23  After5am                        18747 non-null  object \n",
      " 24  SA2                             3305 non-null   object \n",
      " 25  Band                            18747 non-null  int64  \n",
      " 26  GMEs                            18747 non-null  int64  \n",
      " 27  PMPs                            18747 non-null  int64  \n",
      " 28  Auth limit                      18747 non-null  int64  \n",
      " 29  Unfulfilled Quota               18747 non-null  int64  \n",
      " 30  GMT                             18747 non-null  int64  \n",
      " 31  EGMs                            18747 non-null  int64  \n",
      "dtypes: float64(2), int64(7), object(23)\n",
      "memory usage: 4.7+ MB\n"
     ]
    }
   ],
   "source": [
    "# check each data type of columns and non missing values count\n",
    "df.info()"
   ]
  },
  {
   "cell_type": "code",
   "execution_count": 10,
   "id": "d7b8ae3d",
   "metadata": {},
   "outputs": [
    {
     "data": {
      "text/plain": [
       "Licence number                        0\n",
       "Licence type                          0\n",
       "Status                                0\n",
       "Start date                            0\n",
       "Trading Status                        0\n",
       "Licence name                          0\n",
       "Address                             152\n",
       "Suburb                              152\n",
       "Postcode                            153\n",
       "Latitude                            289\n",
       "Longitude                           291\n",
       "LGA                                 152\n",
       "Precinct                          17494\n",
       "Licensee                              2\n",
       "Business type                      3226\n",
       "Authorisation restriction name     6112\n",
       "Extended trading                      0\n",
       "Reduced trading                       0\n",
       "Primary service                       0\n",
       "Right to keep gaming                  0\n",
       "Unrestricted                          0\n",
       "After12am                             0\n",
       "After3am                              0\n",
       "After5am                              0\n",
       "SA2                               15442\n",
       "Band                                  0\n",
       "GMEs                                  0\n",
       "PMPs                                  0\n",
       "Auth limit                            0\n",
       "Unfulfilled Quota                     0\n",
       "GMT                                   0\n",
       "EGMs                                  0\n",
       "dtype: int64"
      ]
     },
     "execution_count": 10,
     "metadata": {},
     "output_type": "execute_result"
    }
   ],
   "source": [
    "#get the count of missing values per column\n",
    "df.isna().sum()"
   ]
  },
  {
   "cell_type": "code",
   "execution_count": 11,
   "id": "fc5d0ee7",
   "metadata": {},
   "outputs": [
    {
     "name": "stdout",
     "output_type": "stream",
     "text": [
      "List of dropped columns: Precinct\n",
      " SA2\n",
      " \n",
      "\n"
     ]
    }
   ],
   "source": [
    "#remove columns with >= 30 missing data\n",
    "df2=df[[column for column in df if df[column].count()/len(df)>=0.30]]\n",
    "\n",
    "print(\"List of dropped columns:\",end=\" \")\n",
    "for c in df.columns:\n",
    "    if c not in df2.columns:\n",
    "        print(c,end=\"\\n \")\n",
    "print('\\n')\n",
    "df=df2"
   ]
  },
  {
   "cell_type": "code",
   "execution_count": 12,
   "id": "12d016b2",
   "metadata": {},
   "outputs": [
    {
     "data": {
      "text/plain": [
       "(18747, 30)"
      ]
     },
     "execution_count": 12,
     "metadata": {},
     "output_type": "execute_result"
    }
   ],
   "source": [
    "df.shape"
   ]
  },
  {
   "cell_type": "code",
   "execution_count": 13,
   "id": "2f51fdbe",
   "metadata": {},
   "outputs": [],
   "source": [
    "df =df.astype(dtype ={'Address':str})"
   ]
  },
  {
   "cell_type": "code",
   "execution_count": 14,
   "id": "42c8137c",
   "metadata": {},
   "outputs": [],
   "source": [
    "#extract street from address\n",
    "def street(s):\n",
    "    return re.findall('(?s:.*)\\d.*?\\s+(.+)',s)"
   ]
  },
  {
   "cell_type": "code",
   "execution_count": 15,
   "id": "a27a1f6b",
   "metadata": {},
   "outputs": [],
   "source": [
    "df['street'] =df['Address'].apply(street)\n",
    "df['street'] = df['street'].str[0]"
   ]
  },
  {
   "cell_type": "code",
   "execution_count": 16,
   "id": "17b6a898",
   "metadata": {},
   "outputs": [],
   "source": [
    "df.fillna(\"nan\",inplace =True)"
   ]
  },
  {
   "cell_type": "code",
   "execution_count": 17,
   "id": "e3235f20",
   "metadata": {},
   "outputs": [],
   "source": [
    "def Streetfinal(df):\n",
    "    if df['street'] != 'nan':\n",
    "        res = df['street']\n",
    "    else:\n",
    "        res = df['Address']\n",
    "    return res"
   ]
  },
  {
   "cell_type": "code",
   "execution_count": 18,
   "id": "094d7897",
   "metadata": {},
   "outputs": [],
   "source": [
    "df['street'] =df.apply(Streetfinal,axis =1).apply(str.upper).str.strip()\n",
    "df['len'] =df['street'].str.len()"
   ]
  },
  {
   "cell_type": "code",
   "execution_count": 19,
   "id": "b800b761",
   "metadata": {},
   "outputs": [],
   "source": [
    "df_len = df.loc[df['len']>10]"
   ]
  },
  {
   "cell_type": "code",
   "execution_count": 20,
   "id": "6bcf92f9",
   "metadata": {},
   "outputs": [
    {
     "data": {
      "text/plain": [
       "'PACIFIC HWY'"
      ]
     },
     "execution_count": 20,
     "metadata": {},
     "output_type": "execute_result"
    }
   ],
   "source": [
    "#most common street name that has length more than 10\n",
    "df_len['street'].value_counts().idxmax()"
   ]
  },
  {
   "cell_type": "code",
   "execution_count": 21,
   "id": "ddd1e061",
   "metadata": {},
   "outputs": [],
   "source": [
    "df['year'] = pd.DatetimeIndex(df['Start date']).year\n",
    "df['month'] =pd.DatetimeIndex(df['Start date']).month"
   ]
  },
  {
   "cell_type": "code",
   "execution_count": 22,
   "id": "744d35a5",
   "metadata": {},
   "outputs": [],
   "source": [
    "df_count = df.groupby(['year','month']).size().to_frame('count').reset_index()"
   ]
  },
  {
   "cell_type": "code",
   "execution_count": 23,
   "id": "5b446818",
   "metadata": {},
   "outputs": [],
   "source": [
    "df =df[['year','month']].groupby(['year','month'])['month']\\\n",
    "                            .count()\\\n",
    "                            .reset_index(name ='count')\\\n",
    "                            .sort_values(['count'],ascending =False)"
   ]
  },
  {
   "cell_type": "code",
   "execution_count": 24,
   "id": "65f39e4a",
   "metadata": {},
   "outputs": [],
   "source": [
    "df_count.sort_values('count',ascending =False).reset_index(inplace=True)"
   ]
  },
  {
   "cell_type": "code",
   "execution_count": 25,
   "id": "83cd5607",
   "metadata": {},
   "outputs": [
    {
     "name": "stdout",
     "output_type": "stream",
     "text": [
      "      index  year  month  count\n",
      "0      1020  2020     12    139\n",
      "1       980  2017      8    129\n",
      "2       995  2018     11    107\n",
      "3       972  2016     12    106\n",
      "4       976  2017      4    103\n",
      "...     ...   ...    ...    ...\n",
      "1026     90  1940      8      1\n",
      "1027     91  1940     10      1\n",
      "1028     92  1940     11      1\n",
      "1029     93  1940     12      1\n",
      "1030      0  1905      6      1\n",
      "\n",
      "[1031 rows x 4 columns]\n"
     ]
    }
   ],
   "source": [
    "print(df.reset_index())"
   ]
  },
  {
   "cell_type": "code",
   "execution_count": 26,
   "id": "59d7ce7b",
   "metadata": {},
   "outputs": [
    {
     "data": {
      "text/html": [
       "<div>\n",
       "<style scoped>\n",
       "    .dataframe tbody tr th:only-of-type {\n",
       "        vertical-align: middle;\n",
       "    }\n",
       "\n",
       "    .dataframe tbody tr th {\n",
       "        vertical-align: top;\n",
       "    }\n",
       "\n",
       "    .dataframe thead th {\n",
       "        text-align: right;\n",
       "    }\n",
       "</style>\n",
       "<table border=\"1\" class=\"dataframe\">\n",
       "  <thead>\n",
       "    <tr style=\"text-align: right;\">\n",
       "      <th></th>\n",
       "      <th>year</th>\n",
       "      <th>month</th>\n",
       "      <th>count</th>\n",
       "    </tr>\n",
       "  </thead>\n",
       "  <tbody>\n",
       "    <tr>\n",
       "      <th>980</th>\n",
       "      <td>2017</td>\n",
       "      <td>8</td>\n",
       "      <td>129</td>\n",
       "    </tr>\n",
       "  </tbody>\n",
       "</table>\n",
       "</div>"
      ],
      "text/plain": [
       "     year  month  count\n",
       "980  2017      8    129"
      ]
     },
     "execution_count": 26,
     "metadata": {},
     "output_type": "execute_result"
    }
   ],
   "source": [
    "#second highest month of year\n",
    "df.iloc[[1]]"
   ]
  },
  {
   "cell_type": "code",
   "execution_count": 27,
   "id": "541dae60",
   "metadata": {},
   "outputs": [],
   "source": [
    "df=df.groupby(['year']).size().to_frame('count').reset_index()"
   ]
  },
  {
   "cell_type": "code",
   "execution_count": 28,
   "id": "b79ce0a3",
   "metadata": {},
   "outputs": [],
   "source": [
    "df['pct'] =df.groupby(['year'])['count'].apply(lambda x:x).pct_change()"
   ]
  },
  {
   "cell_type": "code",
   "execution_count": 29,
   "id": "1ba47c50",
   "metadata": {},
   "outputs": [],
   "source": [
    "#largest yoy increase\n",
    "df =df.groupby(['year']).size().to_frame('count').reset_index()"
   ]
  },
  {
   "cell_type": "code",
   "execution_count": 30,
   "id": "bd5f8b46",
   "metadata": {},
   "outputs": [
    {
     "name": "stdout",
     "output_type": "stream",
     "text": [
      "   year  count\n",
      "6  1923      1\n"
     ]
    }
   ],
   "source": [
    "print(df.iloc[[6]])"
   ]
  },
  {
   "cell_type": "code",
   "execution_count": null,
   "id": "90248847",
   "metadata": {},
   "outputs": [],
   "source": []
  }
 ],
 "metadata": {
  "kernelspec": {
   "display_name": "Python 3 (ipykernel)",
   "language": "python",
   "name": "python3"
  },
  "language_info": {
   "codemirror_mode": {
    "name": "ipython",
    "version": 3
   },
   "file_extension": ".py",
   "mimetype": "text/x-python",
   "name": "python",
   "nbconvert_exporter": "python",
   "pygments_lexer": "ipython3",
   "version": "3.9.7"
  }
 },
 "nbformat": 4,
 "nbformat_minor": 5
}
